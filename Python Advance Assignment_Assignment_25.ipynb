{
 "cells": [
  {
   "cell_type": "markdown",
   "id": "fe5a2487",
   "metadata": {},
   "source": [
    "### Q1. What is the distinction between a numpy array and a pandas data frame? Is there a way to convert between the two if there is ?"
   ]
  },
  {
   "cell_type": "raw",
   "id": "7ca44265",
   "metadata": {},
   "source": [
    "Ans: \n",
    "Numpy Ndarray provides a lot of convenient and optimized methods for performing several mathematical operations on vectors.\n",
    "\n",
    "Pandas Dataframe is an in-memory 2-dimensional tabular representation of data. In simpler words, it can be seen as a spreadsheet having rows and columns.\n",
    "\n",
    "Conversion : Dataframe=pandas.DataFrame(array)"
   ]
  },
  {
   "cell_type": "markdown",
   "id": "96328cc4",
   "metadata": {},
   "source": [
    "### Q2. Identify some of the plotting techniques that are used to produce a stock-market chart ?"
   ]
  },
  {
   "cell_type": "raw",
   "id": "f730c5d9",
   "metadata": {},
   "source": [
    "Ans: Bar chart, Line Chart are used for plotting."
   ]
  },
  {
   "cell_type": "markdown",
   "id": "8eaefc35",
   "metadata": {},
   "source": [
    "### Q3. Why is it essential to print a legend on a stock market chart ?"
   ]
  },
  {
   "cell_type": "raw",
   "id": "0300e84b",
   "metadata": {},
   "source": [
    "Ans: Legend will help comparison between different stocks, so will be essential on a stock market chart"
   ]
  },
  {
   "cell_type": "markdown",
   "id": "4ce56d6d",
   "metadata": {},
   "source": [
    "### Q4. What is the best way to limit the length of a pandas data frame to less than a year ?"
   ]
  },
  {
   "cell_type": "raw",
   "id": "bfaf69b6",
   "metadata": {},
   "source": [
    "Ans: : We can use start and end parameters for that. In start we write the date from where we are starting and at the end we write the end date. SO within this span we can restric the duration.Also we can use the parameters like periods for how much times we need the duration and we can also use the frequency parameter."
   ]
  },
  {
   "cell_type": "markdown",
   "id": "bd1e9835",
   "metadata": {},
   "source": [
    "### Q5. What is the definition of a 180-day moving average ?"
   ]
  },
  {
   "cell_type": "raw",
   "id": "7fc3e87e",
   "metadata": {},
   "source": [
    "Ans: : The 180-day moving average is represented as a line on charts and represents the average price over the past 180 days. The moving average can give traders a sense regarding whether the trend is up or down, while also identifying potential support or resistance areas."
   ]
  },
  {
   "cell_type": "code",
   "execution_count": null,
   "id": "2d11a00e",
   "metadata": {},
   "outputs": [],
   "source": []
  }
 ],
 "metadata": {
  "kernelspec": {
   "display_name": "Python 3 (ipykernel)",
   "language": "python",
   "name": "python3"
  },
  "language_info": {
   "codemirror_mode": {
    "name": "ipython",
    "version": 3
   },
   "file_extension": ".py",
   "mimetype": "text/x-python",
   "name": "python",
   "nbconvert_exporter": "python",
   "pygments_lexer": "ipython3",
   "version": "3.9.7"
  }
 },
 "nbformat": 4,
 "nbformat_minor": 5
}
