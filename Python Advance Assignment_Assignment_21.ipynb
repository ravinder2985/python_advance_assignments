{
 "cells": [
  {
   "cell_type": "markdown",
   "id": "e2384102",
   "metadata": {},
   "source": [
    "### Q1. What is a probability distribution, exactly? If the values are meant to be random, how can you predict them at all ?"
   ]
  },
  {
   "cell_type": "raw",
   "id": "4ebd3282",
   "metadata": {},
   "source": [
    "Ans: A probability distribution describes how a random variable is distributed.\n",
    "It tells us which values a random variable is most likely to take on and which values are less likely. Based on the previous data and the occurences of the random event, we can predict the outcome in terms of probabilities.\n"
   ]
  },
  {
   "cell_type": "markdown",
   "id": "024881d6",
   "metadata": {},
   "source": [
    "### Q2. Is there a distinction between true random numbers and pseudo-random numbers, if there is one? Why are the latter considered “good enough”?"
   ]
  },
  {
   "cell_type": "raw",
   "id": "b0cc7e72",
   "metadata": {},
   "source": [
    "Ans: : True Random Numbers are true physical values while pseudo-random numbers are generated internally by a program . Latter is considered good enough as they have sort of uniform distribution."
   ]
  },
  {
   "cell_type": "markdown",
   "id": "6f592942",
   "metadata": {},
   "source": [
    "### Q3. What are the two main factors that influence the behaviour of a \"normal\" probability distribution ?"
   ]
  },
  {
   "cell_type": "raw",
   "id": "d2945ab0",
   "metadata": {},
   "source": [
    "Ans: Normal Probability Distribution are influenced by two factors mean and the variance."
   ]
  },
  {
   "cell_type": "markdown",
   "id": "f997dc99",
   "metadata": {},
   "source": [
    "### Q4. Provide a real-life example of a normal distribution ?"
   ]
  },
  {
   "cell_type": "raw",
   "id": "e2f18940",
   "metadata": {},
   "source": [
    "Ans: A Real-life example of a normal distribution are heights or blood pressure measurements"
   ]
  },
  {
   "cell_type": "markdown",
   "id": "2f83be98",
   "metadata": {},
   "source": [
    "### Q5. In the short term, how can you expect a probability distribution to behave? What do you think will happen as the number of trials grows ?"
   ]
  },
  {
   "cell_type": "raw",
   "id": "974076f9",
   "metadata": {},
   "source": [
    "Ans: Variance will decrease with number of trials"
   ]
  },
  {
   "cell_type": "markdown",
   "id": "eaf577bf",
   "metadata": {},
   "source": [
    "### Q6. What kind of object can be shuffled by using random.shuffle ?"
   ]
  },
  {
   "cell_type": "raw",
   "id": "365e60c9",
   "metadata": {},
   "source": [
    "Ans: lists (list), strings (str) and tuples (tuple) objects can be shuffled by using random.shuffle."
   ]
  },
  {
   "cell_type": "markdown",
   "id": "6d713265",
   "metadata": {},
   "source": [
    "### Q7. Describe the math package's general categories of functions ?"
   ]
  },
  {
   "cell_type": "raw",
   "id": "8d23264f",
   "metadata": {},
   "source": [
    "Ans: The Math package's general categories of functions are:\n",
    "1.\tTrigonometric functions\n",
    "2.\tQuadratic functions\n",
    "3.\tExponential functions\n",
    "4.\tHyperbolic functions\n",
    "5.\tPeriodic functions\n",
    "6.\tArithmetic functions\n",
    "7.\tLogarithimic functions\n",
    "8.\tConversions to Integer"
   ]
  },
  {
   "cell_type": "markdown",
   "id": "e3abd0f9",
   "metadata": {},
   "source": [
    "### Q8. What is the relationship between exponentiation and logarithms ?"
   ]
  },
  {
   "cell_type": "raw",
   "id": "8796a2cc",
   "metadata": {},
   "source": [
    "Ans: Exponentiation and logarithms are inverse of each other."
   ]
  },
  {
   "cell_type": "markdown",
   "id": "233b459d",
   "metadata": {},
   "source": [
    "### Q9. What are the three logarithmic functions that Python supports ?"
   ]
  },
  {
   "cell_type": "raw",
   "id": "e1c8f3a0",
   "metadata": {},
   "source": [
    "Ans: The Three Logarithmic Functions that Python supports are:\n",
    "1.\tlog2(x) - logarithmic value of x to base 2\n",
    "2.\tlog10(x) - logarithmic value of x to base 10\n",
    "3.\tlog1p(a) - This function is used to compute logarithm(1+a) ."
   ]
  },
  {
   "cell_type": "code",
   "execution_count": null,
   "id": "993e7672",
   "metadata": {},
   "outputs": [],
   "source": []
  }
 ],
 "metadata": {
  "kernelspec": {
   "display_name": "Python 3 (ipykernel)",
   "language": "python",
   "name": "python3"
  },
  "language_info": {
   "codemirror_mode": {
    "name": "ipython",
    "version": 3
   },
   "file_extension": ".py",
   "mimetype": "text/x-python",
   "name": "python",
   "nbconvert_exporter": "python",
   "pygments_lexer": "ipython3",
   "version": "3.9.7"
  }
 },
 "nbformat": 4,
 "nbformat_minor": 5
}
