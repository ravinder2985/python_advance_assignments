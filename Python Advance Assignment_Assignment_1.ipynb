{
 "cells": [
  {
   "cell_type": "markdown",
   "id": "b154f1af",
   "metadata": {},
   "source": [
    "## Q1. What is the purpose of Python's OOP?"
   ]
  },
  {
   "cell_type": "code",
   "execution_count": null,
   "id": "fc3c1c3b",
   "metadata": {},
   "outputs": [],
   "source": [
    "\"\"\"\n",
    "Ans: \n",
    "\n",
    "Object-oriented programming is a programming paradigm that provides a means of structuring programs so that \n",
    "properties and behaviors are bundled into individual objects\n",
    "• In Python, object-oriented Programming (OOPs) uses objects and classes in programming.\n",
    "• It aims to implement real-world entities like inheritance, polymorphisms, encapsulation, etc. in the programming.\n",
    "• The main concept of OOPs is to bind the data and the functions that work on that together as a single unit so that \n",
    "no other part of the code can access this data.\n",
    "• It comes up with the following advantages:\n",
    "• It helps to divide our over all program into different small segments and thus making it solving easy with the \n",
    "use of objects\n",
    "• Helps in easy maintenance and modification of existing program\n",
    "• Multiple instances of an object can be made.\n",
    "\n",
    "\"\"\""
   ]
  },
  {
   "cell_type": "markdown",
   "id": "4b0f94e9",
   "metadata": {},
   "source": [
    "## Q2. Where does an inheritance search look for an attribute?"
   ]
  },
  {
   "cell_type": "code",
   "execution_count": null,
   "id": "5ff06ff3",
   "metadata": {},
   "outputs": [],
   "source": [
    "\"\"\"\n",
    "Ans: \n",
    "\n",
    "Python searches for an attribute in an upward tree of attributes. it first searches for the attribute in its \n",
    "instance and then looks in the class it is generated from, to all super classes listed in its class header\n",
    "\n",
    "\"\"\""
   ]
  },
  {
   "cell_type": "markdown",
   "id": "f52d4fac",
   "metadata": {},
   "source": [
    "## Q3. How do you distinguish between a class object and an instance object?"
   ]
  },
  {
   "cell_type": "code",
   "execution_count": null,
   "id": "c161f12b",
   "metadata": {},
   "outputs": [],
   "source": [
    "\"\"\"\n",
    "Ans: The differences between a class object and an instance object are:\n",
    "\n",
    "Class is a template for creating objects whereas object is an instance of class\n",
    "Seperate memory is allocated for each object whenever an object is created. but for a class this doesnot happens.\n",
    "A Class is created once. Many objects are created using a class.\n",
    "As Classes have no allocated memory. they can't be manipulated. but objects can be manipulated.\n",
    "\n",
    "\"\"\""
   ]
  },
  {
   "cell_type": "markdown",
   "id": "e27e6903",
   "metadata": {},
   "source": [
    "## Q4. What makes the first argument in a class’s method function special?"
   ]
  },
  {
   "cell_type": "code",
   "execution_count": null,
   "id": "ea5e456b",
   "metadata": {},
   "outputs": [],
   "source": [
    "\"\"\"\n",
    "Ans: \n",
    "\n",
    "Python Classes usually have three types of methods which are:\n",
    "\n",
    "Instance Methods (object level methods)\n",
    "Class Methods (class level methods)\n",
    "Static Methods (general utility methods)\n",
    "self is the first argument for instance methods. which refers to the object itself\n",
    "cls is the first argument for class methods which refers to the class itself\n",
    "\n",
    "\"\"\""
   ]
  },
  {
   "cell_type": "markdown",
   "id": "5a03e721",
   "metadata": {},
   "source": [
    "## Q5. What is the purpose of the init method?"
   ]
  },
  {
   "cell_type": "code",
   "execution_count": null,
   "id": "c9019cc2",
   "metadata": {},
   "outputs": [],
   "source": [
    "\"\"\"\n",
    "Ans: \n",
    "\n",
    "__init__ is a reseved method in python classes. It serves the role of a constructor in object oriented terminology. \n",
    "This method is called when an object is created from a class and it allows the class to initialize the attributes of the \n",
    "class\n",
    "\n",
    "\"\"\""
   ]
  },
  {
   "cell_type": "markdown",
   "id": "4532470a",
   "metadata": {},
   "source": [
    "## Q6. What is the process for creating a class instance?"
   ]
  },
  {
   "cell_type": "code",
   "execution_count": null,
   "id": "31c0bf3e",
   "metadata": {},
   "outputs": [],
   "source": [
    "\"\"\"\n",
    "Ans: \n",
    "\n",
    "To create a class instance, we need to call the class by its name and pass the arguments to the class, which its init \n",
    "method accepts.\n",
    "\n",
    "Example: my_name = my_class(\"Mano\",\"vishnu\") Here my_name is an instance of class my_class with attributes \n",
    "\"Mano\" and \"Vishnu\".\n",
    "\n",
    "\"\"\""
   ]
  },
  {
   "cell_type": "markdown",
   "id": "ee33bc05",
   "metadata": {},
   "source": [
    "## Q7. What is the process for creating a class?"
   ]
  },
  {
   "cell_type": "code",
   "execution_count": null,
   "id": "45f94a4e",
   "metadata": {},
   "outputs": [],
   "source": [
    "\"\"\"\n",
    "Ans: \n",
    "\n",
    "Class keyword is used to created a class in python. The syntax to create a class in python is class :\n",
    "\n",
    "Example: class Car: ➞ this creates a class called Car\n",
    "\n",
    "\"\"\""
   ]
  },
  {
   "cell_type": "markdown",
   "id": "717ffd7c",
   "metadata": {},
   "source": [
    "## Q8. How would you define the superclasses of a class?"
   ]
  },
  {
   "cell_type": "code",
   "execution_count": null,
   "id": "664cd8c9",
   "metadata": {},
   "outputs": [],
   "source": [
    "\"\"\"\n",
    "Ans: \n",
    "\n",
    "Superclass/Parent class is given as a arugment to the child class\n",
    "\n",
    "Example: class Employee(Person): Here child class Employee inherits attributes and methofs from Superclass/Parent Person\n",
    "\n",
    "\"\"\""
   ]
  }
 ],
 "metadata": {
  "kernelspec": {
   "display_name": "Python 3 (ipykernel)",
   "language": "python",
   "name": "python3"
  },
  "language_info": {
   "codemirror_mode": {
    "name": "ipython",
    "version": 3
   },
   "file_extension": ".py",
   "mimetype": "text/x-python",
   "name": "python",
   "nbconvert_exporter": "python",
   "pygments_lexer": "ipython3",
   "version": "3.9.7"
  }
 },
 "nbformat": 4,
 "nbformat_minor": 5
}
