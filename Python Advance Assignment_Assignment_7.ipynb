{
 "cells": [
  {
   "cell_type": "markdown",
   "id": "9e054840",
   "metadata": {},
   "source": [
    "### Q1. What is the purpose of the try statement?"
   ]
  },
  {
   "cell_type": "code",
   "execution_count": 1,
   "id": "5add701b",
   "metadata": {},
   "outputs": [
    {
     "name": "stdout",
     "output_type": "stream",
     "text": [
      "Division by Zero is Not Possible\n"
     ]
    }
   ],
   "source": [
    "# Ans: try statement is used for exception handling in python. it consists of a block of risky statements which might cause\n",
    "# an exception during runtime. if code within try block raises exception, then the exception will be reverted to the \n",
    "# corresponding except block if multiple except blocks are present, else it willbe reverted to the default except block. \n",
    "# In short try and except in union avoid programs from crashing during runtime due to exceptions.\n",
    "\n",
    "try:\n",
    "    print(10/0)\n",
    "except ZeroDivisionError:\n",
    "    print('Division by Zero is Not Possible')"
   ]
  },
  {
   "cell_type": "markdown",
   "id": "ba855a62",
   "metadata": {},
   "source": [
    "### Q2. What are the two most popular try statement variations?"
   ]
  },
  {
   "cell_type": "code",
   "execution_count": 2,
   "id": "7c08ff33",
   "metadata": {},
   "outputs": [],
   "source": [
    "# Ans: The Popular try statement variations are:\n",
    "\n",
    "# try,except\n",
    "# try,except,finally\n",
    "# try,except,finally,else\n",
    "\n",
    "# The try block is used to check code for exceptions during runtime. ie code inside try block will execute completely when \n",
    "# there is no error in the program. Whereas the code inside except block will execute whenever the program encounters some \n",
    "# error in the preceeding try block.\n",
    "\n",
    "# Whereas the code enters the else block if and only if the try clause does not raise and exception. The code in the \n",
    "# finally block will execute irrespective of exception."
   ]
  },
  {
   "cell_type": "markdown",
   "id": "380f1057",
   "metadata": {},
   "source": [
    "### Q3. What is the purpose of the raise statement?"
   ]
  },
  {
   "cell_type": "code",
   "execution_count": 3,
   "id": "f12c8cc0",
   "metadata": {},
   "outputs": [],
   "source": [
    "# Ans: raise statement is used to trigger an exception explicitly, if a certain condition is not as per requirement of \n",
    "# programmer. raise statement helps in triggering exception as per programming logic."
   ]
  },
  {
   "cell_type": "markdown",
   "id": "50de2de5",
   "metadata": {},
   "source": [
    "### Q4. What does the assert statement do, and what other statement is it like?"
   ]
  },
  {
   "cell_type": "code",
   "execution_count": 5,
   "id": "c0d321c8",
   "metadata": {},
   "outputs": [
    {
     "ename": "AssertionError",
     "evalue": "this is not a valid statement",
     "output_type": "error",
     "traceback": [
      "\u001b[1;31m---------------------------------------------------------------------------\u001b[0m",
      "\u001b[1;31mAssertionError\u001b[0m                            Traceback (most recent call last)",
      "Cell \u001b[1;32mIn [5], line 5\u001b[0m\n\u001b[0;32m      1\u001b[0m \u001b[38;5;66;03m# Ans: There are few assertions that programmer always want to be true to avoid code failure. This type of requirement is \u001b[39;00m\n\u001b[0;32m      2\u001b[0m \u001b[38;5;66;03m# fulfilled by assert statement. This statement takes a boolean condition output of which is True, For Program Executes.\u001b[39;00m\n\u001b[0;32m      3\u001b[0m \u001b[38;5;66;03m# if output of assert statement is False, it raises an Assertion Error.\u001b[39;00m\n\u001b[1;32m----> 5\u001b[0m \u001b[38;5;28;01massert\u001b[39;00m(\u001b[38;5;241m2\u001b[39m \u001b[38;5;241m==\u001b[39m \u001b[38;5;241m4\u001b[39m), \u001b[38;5;124mf\u001b[39m\u001b[38;5;124m'\u001b[39m\u001b[38;5;124mthis is not a valid statement\u001b[39m\u001b[38;5;124m'\u001b[39m\n",
      "\u001b[1;31mAssertionError\u001b[0m: this is not a valid statement"
     ]
    }
   ],
   "source": [
    "# Ans: There are few assertions that programmer always want to be true to avoid code failure. This type of requirement is \n",
    "# fulfilled by assert statement. This statement takes a boolean condition output of which is True, For Program Executes.\n",
    "# if output of assert statement is False, it raises an Assertion Error.\n",
    "\n",
    "assert(2 == 4), f'this is not a valid statement'"
   ]
  },
  {
   "cell_type": "markdown",
   "id": "a81c8dbd",
   "metadata": {},
   "source": [
    "### Q5. What is the purpose of the with/as argument, and what other statement is it like?"
   ]
  },
  {
   "cell_type": "code",
   "execution_count": 6,
   "id": "8e790d1a",
   "metadata": {},
   "outputs": [],
   "source": [
    "# Ans: with/as statement simplifies use of file handling in python. When we use a with statement for file reading, there is\n",
    "# no need for programmer to explicitly takecare of activities like resource deallocation and file closing by using file.\n",
    "# close() method. with statement itself ensures proper acquisition and release of resources. this avoids triggering of \n",
    "# exceptions if file closing is unknowingly forgotten in the code execution.\n",
    "\n",
    "with open('sample_file.txt','w') as file: file.write('Hello World')"
   ]
  }
 ],
 "metadata": {
  "kernelspec": {
   "display_name": "Python 3 (ipykernel)",
   "language": "python",
   "name": "python3"
  },
  "language_info": {
   "codemirror_mode": {
    "name": "ipython",
    "version": 3
   },
   "file_extension": ".py",
   "mimetype": "text/x-python",
   "name": "python",
   "nbconvert_exporter": "python",
   "pygments_lexer": "ipython3",
   "version": "3.9.7"
  }
 },
 "nbformat": 4,
 "nbformat_minor": 5
}
