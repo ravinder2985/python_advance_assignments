{
 "cells": [
  {
   "cell_type": "markdown",
   "id": "8a1e5696",
   "metadata": {},
   "source": [
    "### 1. Compare and contrast the float and Decimal classes' benefits and drawbacks ?"
   ]
  },
  {
   "cell_type": "raw",
   "id": "33e9526e",
   "metadata": {},
   "source": [
    "Ans: Both the float and decimal types store numerical values in Python.\n",
    "Use floats when convenience and speed matter. A float gives you an approximation of the number you declare.\n",
    "\n",
    "Use decimals when precision matters. Decimals can suffer from their own precision issues, but generally, decimals are more precise than floats. The performance difference between float and decimal, with Python 3, is not outlandish, and in my experience, the precision benefits of a decimal outweigh the performance benefits of a float"
   ]
  },
  {
   "cell_type": "markdown",
   "id": "16257931",
   "metadata": {},
   "source": [
    "### 2. Decimal('1.200') and Decimal('1.2') are two objects to consider. In what sense are these the same object? Are these just two ways of representing the exact same value, or do they correspond to different internal states ?"
   ]
  },
  {
   "cell_type": "raw",
   "id": "1738100a",
   "metadata": {},
   "source": [
    "Ans: Both values are same but internal representation at storage Is different. Precsion differs, Decimal('1.200') gives internally 1.200 and Decimal('1.2') gives 1.2."
   ]
  },
  {
   "cell_type": "markdown",
   "id": "582e4c09",
   "metadata": {},
   "source": [
    "### 3. What happens if the equality of Decimal('1.200') and Decimal('1.2') is checked ?"
   ]
  },
  {
   "cell_type": "raw",
   "id": "5d1da1a3",
   "metadata": {},
   "source": [
    "Ans: Both values are checked to be equal , they only differ in precision."
   ]
  },
  {
   "cell_type": "markdown",
   "id": "927b187d",
   "metadata": {},
   "source": [
    "### 4. Why is it preferable to start a Decimal object with a string rather than a floating-point value ?"
   ]
  },
  {
   "cell_type": "raw",
   "id": "a072d9c1",
   "metadata": {},
   "source": [
    "Ans: Floating-point value is converted to Decimal format. Decimal can store float value with absolute precision. But when float value is given as Decimal object,it first has to be converted from floating point value which might already have rounding error.\n",
    "Hence it is preferable to start a Decimal object with a string."
   ]
  },
  {
   "cell_type": "markdown",
   "id": "3232ffd9",
   "metadata": {},
   "source": [
    "### 5. In an arithmetic phrase, how simple is it to combine Decimal objects with integers ?"
   ]
  },
  {
   "cell_type": "raw",
   "id": "48374b69",
   "metadata": {},
   "source": [
    "Ans: We can do it with use of Decimal()."
   ]
  },
  {
   "cell_type": "markdown",
   "id": "c6006fd6",
   "metadata": {},
   "source": [
    "### 6. Can Decimal objects and floating-point values be combined easily?"
   ]
  },
  {
   "cell_type": "raw",
   "id": "bd733acb",
   "metadata": {},
   "source": [
    "Ans: Arithmetic operfations like Adding,subtracting or multiplying a Decimal object by a floating-point value is generates an error.\n",
    "To do these operations, the floating point has to be converted to a Decimal."
   ]
  },
  {
   "cell_type": "markdown",
   "id": "cf3354ce",
   "metadata": {},
   "source": [
    "### 7. Using the Fraction class but not the Decimal class, give an example of a quantity that can be expressed with absolute precision ?"
   ]
  },
  {
   "cell_type": "raw",
   "id": "4638c9d2",
   "metadata": {},
   "source": [
    "Ans: Value of 0.5 will be represented as ½."
   ]
  },
  {
   "cell_type": "markdown",
   "id": "4d5e38da",
   "metadata": {},
   "source": [
    "### 8.Consider the following two fraction objects: Fraction(1, 2) and Fraction(1, 2). (5, 10). Is the internal state of these two objects the same? Why do you think that is ?"
   ]
  },
  {
   "cell_type": "raw",
   "id": "763a7fde",
   "metadata": {},
   "source": [
    "Ans: Both will be reduced to 1/2"
   ]
  },
  {
   "cell_type": "markdown",
   "id": "68508cda",
   "metadata": {},
   "source": [
    "### 9. How do the Fraction class and the integer type (int) relate to each other? Containment or inheritance ?"
   ]
  },
  {
   "cell_type": "raw",
   "id": "358fc8cd",
   "metadata": {},
   "source": [
    "Ans: Fraction class and integer type(int) are related in form of a container.It contains two ints, one the numerator and the other the denominator"
   ]
  },
  {
   "cell_type": "code",
   "execution_count": null,
   "id": "dee6c706",
   "metadata": {},
   "outputs": [],
   "source": []
  }
 ],
 "metadata": {
  "kernelspec": {
   "display_name": "Python 3 (ipykernel)",
   "language": "python",
   "name": "python3"
  },
  "language_info": {
   "codemirror_mode": {
    "name": "ipython",
    "version": 3
   },
   "file_extension": ".py",
   "mimetype": "text/x-python",
   "name": "python",
   "nbconvert_exporter": "python",
   "pygments_lexer": "ipython3",
   "version": "3.9.7"
  }
 },
 "nbformat": 4,
 "nbformat_minor": 5
}
