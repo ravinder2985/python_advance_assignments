{
 "cells": [
  {
   "cell_type": "markdown",
   "id": "34bbbf59",
   "metadata": {},
   "source": [
    "### Q1. Is it permissible to use several import statements to import the same module? What would the goal be? Can you think of a situation where it would be beneficial ?"
   ]
  },
  {
   "cell_type": "raw",
   "id": "1e11ae56",
   "metadata": {},
   "source": [
    "Ans: Yes, it is permissible to use several import statements to import the same module. It is used in case when we have to import multiple functions from same module."
   ]
  },
  {
   "cell_type": "markdown",
   "id": "b9c1f371",
   "metadata": {},
   "source": [
    "### Q2. What are some of a module's characteristics? (Name at least one.)"
   ]
  },
  {
   "cell_type": "raw",
   "id": "5b380939",
   "metadata": {},
   "source": [
    "Ans: The following are some of a module's characteristics:\n",
    "•\t__name__ : It returns the name of the module\n",
    "•\t__doc__ : It denotes the documentation string line written in a module code.\n",
    "•\t__file__ : It holds the name and path of the module file from which it is loaded\n",
    "•\t__dict__ : It return a dictionary object of module attributes, functions and other definitions and their respective values"
   ]
  },
  {
   "cell_type": "markdown",
   "id": "35484402",
   "metadata": {},
   "source": [
    "### Q3. Circular importing, such as when two modules import each other, can lead to dependencies and bugs that aren't visible. How can you go about creating a program that avoids mutual importing?"
   ]
  },
  {
   "cell_type": "raw",
   "id": "8baa1bda",
   "metadata": {},
   "source": [
    "Ans: Circular importing means importing the two modules in each other. If suppose we are wokring in MOD1.py file and it is importing some function say F2() from some other module say MOD2.PY file or we can do vice-versa. What will happen is: This will give an import error.\n",
    "This is because when we import F2() function from module MOD2.py, then this will execute MOD2.py file. And in MOD2.py file there is an another statement of importing MOD1.py module.\n",
    "This will result in endless loop. To avoid this error just do one thingWe can use if __name__ == '__main__'\n",
    "In the function, you can't directly refer to the function in the program. The addition of this sentence avoids the endless loop of the program .\n"
   ]
  },
  {
   "cell_type": "markdown",
   "id": "8c577c1b",
   "metadata": {},
   "source": [
    "### Q4. Why is __all__ in Python ?"
   ]
  },
  {
   "cell_type": "raw",
   "id": "b8376015",
   "metadata": {},
   "source": [
    "Ans: It provides list of all modules present in a library."
   ]
  },
  {
   "cell_type": "markdown",
   "id": "114be305",
   "metadata": {},
   "source": [
    "### Q5. In what situation is it useful to refer to the __name__ attribute or the string __main_ _ ?"
   ]
  },
  {
   "cell_type": "raw",
   "id": "8e6f69e0",
   "metadata": {},
   "source": [
    "Ans: During the time of execution of the code if we want to refer the module in which we are working on then we uses name attribute. In that case it will return the module in which we are working on. Suppose if that moudle is being imported from some other module then name will have the name of that moudle from where the current module has been imported. The current module in which we are working is refer to the string __main __."
   ]
  }
 ],
 "metadata": {
  "kernelspec": {
   "display_name": "Python 3 (ipykernel)",
   "language": "python",
   "name": "python3"
  },
  "language_info": {
   "codemirror_mode": {
    "name": "ipython",
    "version": 3
   },
   "file_extension": ".py",
   "mimetype": "text/x-python",
   "name": "python",
   "nbconvert_exporter": "python",
   "pygments_lexer": "ipython3",
   "version": "3.9.7"
  }
 },
 "nbformat": 4,
 "nbformat_minor": 5
}
